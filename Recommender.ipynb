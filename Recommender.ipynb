{
  "nbformat": 4,
  "nbformat_minor": 0,
  "metadata": {
    "colab": {
      "provenance": []
    },
    "kernelspec": {
      "name": "python3",
      "display_name": "Python 3"
    },
    "language_info": {
      "name": "python"
    }
  },
  "cells": [
    {
      "cell_type": "code",
      "source": [
        "import pandas as pd\n",
        "import numpy as np\n",
        "import matplotlib.pyplot as plt\n",
        "import seaborn as sns\n",
        "import re\n",
        "import nltk\n",
        "nltk.download(\"punkt\")\n",
        "nltk.download(\"wordnet\")\n",
        "from nltk.corpus import stopwords\n",
        "nltk.download('stopwords')\n",
        "stop_words = stopwords.words('english')\n",
        "from nltk.stem import WordNetLemmatizer\n",
        "nltk.download('omw-1.4')"
      ],
      "metadata": {
        "colab": {
          "base_uri": "https://localhost:8080/"
        },
        "id": "ulWS0MeUtLmz",
        "outputId": "b6b5fa29-fa4a-4bb8-db9b-8bc278811748"
      },
      "execution_count": null,
      "outputs": [
        {
          "output_type": "stream",
          "name": "stderr",
          "text": [
            "[nltk_data] Downloading package punkt to /root/nltk_data...\n",
            "[nltk_data]   Package punkt is already up-to-date!\n",
            "[nltk_data] Downloading package wordnet to /root/nltk_data...\n",
            "[nltk_data]   Package wordnet is already up-to-date!\n",
            "[nltk_data] Downloading package stopwords to /root/nltk_data...\n",
            "[nltk_data]   Package stopwords is already up-to-date!\n",
            "[nltk_data] Downloading package omw-1.4 to /root/nltk_data...\n",
            "[nltk_data]   Package omw-1.4 is already up-to-date!\n"
          ]
        },
        {
          "output_type": "execute_result",
          "data": {
            "text/plain": [
              "True"
            ]
          },
          "metadata": {},
          "execution_count": 160
        }
      ]
    },
    {
      "cell_type": "markdown",
      "source": [
        "#Data Preprocessing"
      ],
      "metadata": {
        "id": "vX1NTlQDkwdd"
      }
    },
    {
      "cell_type": "code",
      "source": [
        "data = pd.read_csv(\"winemag-data_first150k.csv\")\n",
        "pd.set_option('max_rows', 99999)\n",
        "pd.set_option('max_colwidth', 400)\n",
        "data['frequency'] = data['variety'].map(data['variety'].value_counts())\n",
        "data.drop(data[data['frequency'] <= 1000].index, inplace = True)\n",
        "data = data[['description','points','variety']].copy()\n",
        "\n",
        "print(data.shape)\n",
        "df_drop = data[(data[\"variety\"]==\"Rosé\") | (data[\"variety\"]==\"Sparkling Blend\") | (data[\"variety\"]==\"Red Blend\") | (data[\"variety\"]==\"White Blend\") |\n",
        "   (data[\"variety\"]==\"Rhône-style Red Blend\")\n",
        "   | (data[\"variety\"]==\"Bordeaux-style Red Blend\")\n",
        "   | (data[\"variety\"]==\"Champagne Blend\")].index\n",
        "\n",
        "data.drop(df_drop , inplace=True)\n",
        "print(data.shape)\n",
        "\n",
        "def type_of_wine(value):\n",
        "    if value==\"Cabernet Sauvignon\":\n",
        "        return \"red\"\n",
        "    if value==\"Sauvignon Blanc\":\n",
        "        return \"white\"\n",
        "    if value==\"Pinot Noir\":\n",
        "        return \"red\"\n",
        "    if value==\"Chardonnay\":\n",
        "        return \"white\"\n",
        "    if value==\"Tempranillo\":\n",
        "        return \"red\"\n",
        "    if value==\"Malbec\":\n",
        "        return \"red\"\n",
        "    if value==\"Syrah\":\n",
        "        return \"red\"\n",
        "    if value==\"Sangiovese\":\n",
        "        return \"red\"\n",
        "    if value==\"Riesling\":\n",
        "        return \"white\"\n",
        "    if value==\"Portuguese Red\":\n",
        "        return \"red\"\n",
        "    if value==\"Nebbiolo\":\n",
        "        return \"red\"\n",
        "    if value==\"Pinot Gris\":\n",
        "        return \"white\"\n",
        "    if value==\"Viognier\":\n",
        "        return \"white\"\n",
        "    if value==\"Pinot Grigio\":\n",
        "        return \"white\"\n",
        "    if value==\"Cabernet Franc\":\n",
        "        return \"red\"\n",
        "    if value==\"Zinfandel\":\n",
        "        return \"red\"\n",
        "    if value==\"Barbera\":\n",
        "        return \"red\"\n",
        "    if value==\"Merlot\":\n",
        "        return \"red\"\n",
        "    if value==\"Grüner Veltliner\":\n",
        "        return \"white\"\n",
        "    if value==\"Shiraz\":\n",
        "        return \"red\"\n",
        "    if value==\"Port\":\n",
        "        return \"red\"\n",
        "    if value==\"Corvina, Rondinella, Molinara\":\n",
        "        return \"red\"\n",
        "    if value==\"Sangiovese Grosso\":\n",
        "        return \"red\"\n",
        "    if value==\"Chardonnay\":\n",
        "        return \"white\"\n",
        "    if value==\"Chardonnay\":\n",
        "        return \"white\"\n",
        "\n",
        "data['type of wine'] = data['variety'].map(type_of_wine)\n",
        "\n",
        "dict1 = {\"red\":int(0), \"white\":int(1)}\n",
        "data[\"type of wine\"] = data[\"type of wine\"].map(dict1)\n",
        "lemmatizer = WordNetLemmatizer()\n",
        "print(data.shape)"
      ],
      "metadata": {
        "colab": {
          "base_uri": "https://localhost:8080/"
        },
        "id": "E1cHs3DbtcfA",
        "outputId": "eaaa7855-a393-4dea-fba2-006dcf61ee2b"
      },
      "execution_count": null,
      "outputs": [
        {
          "output_type": "stream",
          "name": "stdout",
          "text": [
            "(124494, 3)\n",
            "(96697, 3)\n",
            "(96697, 4)\n"
          ]
        }
      ]
    },
    {
      "cell_type": "code",
      "source": [
        "stop_words.append(\"wine\")\n",
        "stop_words.append(\"winery\")\n",
        "stop_words.append(\"vineyard\")\n",
        "stop_words.append(\"red\")\n",
        "stop_words.append(\"white\")\n",
        "stop_words.append(\"cabernet sauvignon\")\n",
        "stop_words.append(\"sauvignon blanc\")\n",
        "stop_words.append(\"pinot noir\")\n",
        "stop_words.append(\"chardonnay\")\n",
        "stop_words.append(\"tempranillo\")\n",
        "stop_words.append(\"malbec\")\n",
        "stop_words.append(\"syrah\")\n",
        "stop_words.append(\"sangiovese\")\n",
        "stop_words.append(\"riesling\")\n",
        "stop_words.append(\"portuguese red\")\n",
        "stop_words.append(\"nebbiolo\")\n",
        "stop_words.append(\"pinot gris\")\n",
        "stop_words.append(\"viognier\")\n",
        "stop_words.append(\"pinot grigio\")\n",
        "stop_words.append(\"cabernet franc\")\n",
        "stop_words.append(\"zinfandel\")\n",
        "stop_words.append(\"barbera\")\n",
        "stop_words.append(\"merlot\")\n",
        "stop_words.append(\"grüner veltliner\")\n",
        "stop_words.append(\"shiraz\")\n",
        "stop_words.append(\"port\")\n",
        "stop_words.append(\"corvina, rondinella, molinara\")\n",
        "stop_words.append(\"sangiovese grosso\")\n",
        "stop_words.append(\"chardonnay\")"
      ],
      "metadata": {
        "id": "UOUeHSTLwV2z"
      },
      "execution_count": null,
      "outputs": []
    },
    {
      "cell_type": "markdown",
      "source": [
        "#Removing stopwords, lemmatizing, and Converting into tokens"
      ],
      "metadata": {
        "id": "V_fVJB14kz_q"
      }
    },
    {
      "cell_type": "code",
      "source": [
        "data['clean_description'] = ''\n",
        "def tokenizer(sentence, min_words=2, stopwords=stop_words, lemmatize=True):\n",
        "\n",
        "    if lemmatize:\n",
        "        stemmer = WordNetLemmatizer()\n",
        "        tokens = [stemmer.lemmatize(w) for w in nltk.word_tokenize(sentence)]\n",
        "    else:\n",
        "        tokens = [w for w in nltk.word_tokenize(sentence)]\n",
        "    tokens = [w for w in tokens if w not in stopwords]\n",
        "    return tokens\n",
        "\n",
        "print(data.shape)\n",
        "for index, row in data.iterrows():\n",
        "  filter_sentence = []\n",
        "  sentence = row['description']\n",
        "  sentence  = sentence.lower()\n",
        "  sentence = re.sub(r'[^\\w\\s]', '', sentence)\n",
        "  words = tokenizer(sentence)\n",
        "  # print(index)\n",
        "  # print(words)\n",
        "  data.at[index, 'clean_description'] = words\n",
        "\n",
        "print(data.shape)"
      ],
      "metadata": {
        "colab": {
          "base_uri": "https://localhost:8080/"
        },
        "id": "QUjxCBquwoD4",
        "outputId": "7f3741b9-5692-442a-be51-71b3a1d358f6"
      },
      "execution_count": null,
      "outputs": [
        {
          "output_type": "stream",
          "name": "stdout",
          "text": [
            "(96697, 5)\n",
            "(96697, 5)\n"
          ]
        }
      ]
    },
    {
      "cell_type": "code",
      "source": [
        "#drop empty values\n",
        "data.dropna(inplace=True)\n",
        "#drop duplicates\n",
        "data.drop_duplicates(subset =['description'],inplace=True)\n",
        "print(data.shape)"
      ],
      "metadata": {
        "colab": {
          "base_uri": "https://localhost:8080/"
        },
        "id": "T3L0dt6S3PEn",
        "outputId": "c9e1592d-399a-4dd3-d5e9-313f7033d7ea"
      },
      "execution_count": null,
      "outputs": [
        {
          "output_type": "stream",
          "name": "stdout",
          "text": [
            "(60865, 5)\n"
          ]
        }
      ]
    },
    {
      "cell_type": "code",
      "execution_count": null,
      "metadata": {
        "colab": {
          "base_uri": "https://localhost:8080/"
        },
        "id": "KP_7pFjFmFsd",
        "outputId": "0036ebfc-dad3-4656-a00c-b86022665332"
      },
      "outputs": [
        {
          "output_type": "stream",
          "name": "stderr",
          "text": [
            "[nltk_data] Downloading package stopwords to /root/nltk_data...\n",
            "[nltk_data]   Package stopwords is already up-to-date!\n",
            "[nltk_data] Downloading package punkt to /root/nltk_data...\n",
            "[nltk_data]   Package punkt is already up-to-date!\n"
          ]
        }
      ],
      "source": [
        "from sklearn.metrics.pairwise import cosine_similarity\n",
        "from sklearn.feature_extraction.text import CountVectorizer\n",
        "from sklearn.feature_extraction.text import TfidfTransformer\n",
        "\n",
        "from sklearn.feature_extraction.text import TfidfVectorizer\n",
        "from nltk.corpus import stopwords\n",
        "import re\n",
        "import nltk\n",
        "nltk.download('stopwords')\n",
        "nltk.download('punkt')\n",
        "import pandas as pd\n",
        "import numpy as np\n",
        "\n",
        "\n",
        "x_df = data['clean_description']\n",
        "x_df = [(\" \".join(word for word in review)) for review in x_df]\n",
        "count_vectorizer = CountVectorizer()\n",
        "count_vectorizer.fit_transform(x_df)\n",
        "freq_term_matrix = count_vectorizer.transform(x_df)\n",
        "tfidf = TfidfTransformer(norm = \"l2\")\n",
        "tfidf.fit(freq_term_matrix)\n",
        "tf_idf_matrix = tfidf.fit_transform(freq_term_matrix)\n"
      ]
    },
    {
      "cell_type": "code",
      "source": [
        "def top_results(m, topk):\n",
        "    # return the sum on all tokens of cosinus for each sentence\n",
        "    if len(m.shape) > 1:\n",
        "        cos_sim = np.mean(m, axis=0)\n",
        "    else:\n",
        "        cos_sim = m\n",
        "    index = np.argsort(cos_sim)[::-1]\n",
        "    check = np.ones(len(cos_sim))\n",
        "    check = np.logical_or(cos_sim[index] != 0, check)\n",
        "    best_index = index[check][:topk]\n",
        "    return best_index"
      ],
      "metadata": {
        "id": "SprpoatLmRog"
      },
      "execution_count": null,
      "outputs": []
    },
    {
      "cell_type": "code",
      "source": [
        "def tfidf_rec(sentence, tfidf_mat):\n",
        "    filter_sentence = []\n",
        "    sentence  = sentence.lower()\n",
        "    sentence = re.sub(r'[^\\w\\s]', '', sentence)\n",
        "    words = nltk.word_tokenize(sentence)\n",
        "    tokens_query = [w for w in words if w not in stop_words]\n",
        "    embed_query_freq = count_vectorizer.transform(tokens_query)\n",
        "    query = tfidf.transform(embed_query_freq)\n",
        "    mat = cosine_similarity(query, tfidf_mat)\n",
        "    best_index = top_results(mat, topk=5)\n",
        "    return best_index"
      ],
      "metadata": {
        "id": "LzrgWUG4mTkj"
      },
      "execution_count": null,
      "outputs": []
    },
    {
      "cell_type": "code",
      "source": [
        "query = \"Supple and dense, it's got strawberry, blueberry, plum and black cherry, a touch of chocolate, and that underlying streak of mineral. All these elements are in good proportion and finish with an appealing silky texture.\"\n",
        "best_index = tfidf_rec(query, tf_idf_matrix)\n",
        "print(data[['description','variety','type of wine']].iloc[best_index])"
      ],
      "metadata": {
        "colab": {
          "base_uri": "https://localhost:8080/"
        },
        "id": "yYOz_x4cmYas",
        "outputId": "11d660be-6487-46f6-b184-45893efb61fc"
      },
      "execution_count": null,
      "outputs": [
        {
          "output_type": "stream",
          "name": "stdout",
          "text": [
            "                                                                                                                                                                                                                                                                                                                                                                                                           description  \\\n",
            "14     With its sophisticated mix of mineral, acid and tart fruits, this seductive effort pleases from start to finish. Supple and dense, it's got strawberry, blueberry, plum and black cherry, a touch of chocolate, and that underlying streak of mineral. All these elements are in good proportion and finish with an appealing silky texture. It's delicious already, but give it another decade for full enj...   \n",
            "26192                                                                                                                                                                                                                                                                                                            A soft, easy red wine. Shows appealing cherry and raspberry flavors, with a silky texture. Drink now.   \n",
            "26513                                                                                                                                                                                                                                                                                                                         Soft and simple, with sweet, easy cherry and strawberry jam flavors and a silky texture.   \n",
            "7543                                                                                                                                                                                                                                      This ruby red Merlot has aromas of cherry vanilla, black plum and black cherry and flavors of red plum and dried cherry. The finish is persistent with mouth drying tannins.   \n",
            "61744                                                                                                                                                                                                                                                     Simple and tasty A delicately structured wine with good acidity and a silky texture. The raspberry, strawberry and spicy vanilla flavors finish very fruity.   \n",
            "\n",
            "           variety  type of wine  \n",
            "14      Pinot Noir           0.0  \n",
            "26192  Tempranillo           0.0  \n",
            "26513   Pinot Noir           0.0  \n",
            "7543        Merlot           0.0  \n",
            "61744        Syrah           0.0  \n"
          ]
        }
      ]
    },
    {
      "cell_type": "code",
      "source": [
        "from gensim.models.word2vec import Word2Vec\n",
        "\n",
        "#function to check if word is in model\n",
        "def is_word_in_model(word, model):\n",
        "    is_in_vocab = word in model.vocab.keys()\n",
        "    return is_in_vocab\n",
        "\n",
        "#function to calculate the similarity score\n",
        "def predict(query, dataset, model, topk=5):\n",
        "    in_vocab_list = []\n",
        "    best_index = np.zeros(topk)\n",
        "    query = query.split()\n",
        "    for word in query:\n",
        "      if is_word_in_model(word, model.wv):\n",
        "        in_vocab_list.append(word)\n",
        "\n",
        "    if len(in_vocab_list) > 0:\n",
        "      sim_matrix = np.zeros(len(dataset))\n",
        "      for i, sentence in enumerate(dataset):\n",
        "        sim = 0\n",
        "        if sentence:\n",
        "          sim = model.wv.n_similarity(in_vocab_list, sentence)\n",
        "        sim_matrix[i] = np.array(sim)\n",
        "      best_index = np.argsort(sim_matrix)[::-1][:topk]\n",
        "    return best_index\n",
        "\n",
        "\n",
        "# Create model\n",
        "word2vec_model = Word2Vec(min_count=0, workers = 8, size=400)\n",
        "word2vec_model.build_vocab(data.clean_description.values)\n",
        "# Train\n",
        "word2vec_model.train(data.clean_description.values, total_examples=word2vec_model.corpus_count, epochs=30)\n"
      ],
      "metadata": {
        "colab": {
          "base_uri": "https://localhost:8080/"
        },
        "id": "zR3HN2X1ohey",
        "outputId": "6490d5a9-b6c2-4254-cce8-a1f0901b2ebc"
      },
      "execution_count": null,
      "outputs": [
        {
          "output_type": "execute_result",
          "data": {
            "text/plain": [
              "(37730012, 43066800)"
            ]
          },
          "metadata": {},
          "execution_count": 169
        }
      ]
    },
    {
      "cell_type": "code",
      "source": [
        "test_sentence = \"Supple and dense, it's got strawberry, blueberry, plum and black cherry, a touch of chocolate, and that underlying streak of mineral. All these elements are in good proportion and finish with an appealing silky texture.\"\n",
        "best_index = predict(test_sentence, data.clean_description.values, word2vec_model)\n",
        "print(data[['description', 'variety','type of wine']].iloc[best_index])\n"
      ],
      "metadata": {
        "colab": {
          "base_uri": "https://localhost:8080/"
        },
        "id": "p2P_G1FJAWew",
        "outputId": "8b5245e8-f536-4c0d-980e-96665c7407ad"
      },
      "execution_count": null,
      "outputs": [
        {
          "output_type": "stream",
          "name": "stdout",
          "text": [
            "                                                                                                                                                                                                                                                                                                                                                                                                            description  \\\n",
            "14      With its sophisticated mix of mineral, acid and tart fruits, this seductive effort pleases from start to finish. Supple and dense, it's got strawberry, blueberry, plum and black cherry, a touch of chocolate, and that underlying streak of mineral. All these elements are in good proportion and finish with an appealing silky texture. It's delicious already, but give it another decade for full enj...   \n",
            "67085                                                                                                                                                                                                               A smooth, harmonious wine that carries plenty of black cherries and plums upfront, laced with coffee and mocha flavors. Good length on the finish is bolstered by a strong undercurrent of acidity.   \n",
            "90222                                                                                                                                                                         At the price, a pretty satisfying Malbec that's a little tight at first, with dark stewy notes, but on balance good texture and finish. It shows plum and black cherry flavors integrated throughout and a touch of Yolo earthiness, too.   \n",
            "100381                                                                                                                           Nice and pure, with controlled berry aromas, a dash of pepper and integrated background oak. A tasty, easy-to-drink wine with fine balance and fresh flavors of cherry, raspberry, cassis, chocolate and a medicinal finish. Good depth, length and size throughout. Delicious Malbec.   \n",
            "145208                                                                                                                Toasty oak and tobacco notes frame black plums and cocoa in this nicely balanced wine. The solid black-cherry, berry and earth flavors are on target; the mouthfeel is smooth and fairly supple. Dry and softly tannic, the finish shows good length, more plum flavors and licorice-anise notes.   \n",
            "\n",
            "           variety  type of wine  \n",
            "14      Pinot Noir           0.0  \n",
            "67085       Merlot           0.0  \n",
            "90222       Malbec           0.0  \n",
            "100381      Malbec           0.0  \n",
            "145208      Merlot           0.0  \n"
          ]
        }
      ]
    }
  ]
}